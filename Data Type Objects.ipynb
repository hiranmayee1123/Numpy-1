{
 "cells": [
  {
   "cell_type": "markdown",
   "metadata": {},
   "source": [
    "# Data Type Objects\n",
    "\n",
    "Every ndarray has an associated data type (dtype) object. It informs us about the layout of the array.\n",
    "\n",
    "Type of the data (integer, float, Python object etc.)\n",
    "\n",
    "Size of the data (number of bytes)\n",
    "\n",
    "Byte order of the data (little-endian or big-endian)\n",
    "\n",
    "If the data type is a sub-array, what is its shape and data type.\n",
    "\n",
    "The values of an ndarray are stored in a buffer which can be thought of as a contiguous block of memory bytes. So how these bytes will be interpreted is given by the dtype object.  "
   ]
  },
  {
   "cell_type": "markdown",
   "metadata": {},
   "source": [
    "# Constructing a data type (dtype) object\n",
    "Data type object is an instance of numpy.dtype class and it can be created using numpy.dtype."
   ]
  },
  {
   "cell_type": "code",
   "execution_count": 1,
   "metadata": {},
   "outputs": [
    {
     "name": "stdout",
     "output_type": "stream",
     "text": [
      "int16\n"
     ]
    }
   ],
   "source": [
    "import numpy as np\n",
    " \n",
    "# np.int16 is converted into a data type object.\n",
    "print(np.dtype(np.int16))"
   ]
  },
  {
   "cell_type": "code",
   "execution_count": 2,
   "metadata": {},
   "outputs": [
    {
     "name": "stdout",
     "output_type": "stream",
     "text": [
      "Byte order is: >\n",
      "Size is: 4\n",
      "Data type is: int32\n"
     ]
    }
   ],
   "source": [
    "import numpy as np\n",
    " \n",
    "# i4 represents integer of size 4 byte\n",
    "# > represents big-endian byte ordering and\n",
    "# < represents little-endian encoding.\n",
    "# dt is a dtype object\n",
    "dt = np.dtype('>i4')\n",
    " \n",
    "print(\"Byte order is:\",dt.byteorder)\n",
    " \n",
    "print(\"Size is:\", dt.itemsize)\n",
    " \n",
    "print(\"Data type is:\", dt.name)"
   ]
  },
  {
   "cell_type": "code",
   "execution_count": 3,
   "metadata": {},
   "outputs": [
    {
     "name": "stdout",
     "output_type": "stream",
     "text": [
      "type is:  <class 'numpy.ndarray'>\n",
      "dtype is:  int32\n"
     ]
    }
   ],
   "source": [
    "# to differentiate between type and dtype.\n",
    "import numpy as np\n",
    " \n",
    "a = np.array([1])\n",
    " \n",
    "print(\"type is: \",type(a))\n",
    "print(\"dtype is: \",a.dtype)"
   ]
  },
  {
   "cell_type": "markdown",
   "metadata": {},
   "source": [
    "# Data type Objects with Structured Arrays \n",
    "Data type objects are useful for creating structured arrays. A structured array is the one which contains different types of data. Structured arrays can be accessed with the help of fields.\n",
    "\n",
    "A field is like specifying a name to the object. In case of structured arrays, the dtype object will also be structured. "
   ]
  },
  {
   "cell_type": "code",
   "execution_count": 4,
   "metadata": {},
   "outputs": [
    {
     "name": "stdout",
     "output_type": "stream",
     "text": [
      "('<f8', (2,))\n",
      "<U16\n"
     ]
    }
   ],
   "source": [
    "# Python program for demonstrating \n",
    "# the use of fields\n",
    "import numpy as np\n",
    " \n",
    "# A structured data type containing a\n",
    "# 16-character string (in field ‘name’) \n",
    "# and a sub-array of two 64-bit floating\n",
    "# -point number (in field ‘grades’)\n",
    " \n",
    "dt = np.dtype([('name', np.unicode_, 16),\n",
    "               ('grades', np.float64, (2,))])\n",
    " \n",
    "# Data type of object with field grades\n",
    "print(dt['grades'])\n",
    " \n",
    "# Data type of object with field name \n",
    "print(dt['name'])"
   ]
  },
  {
   "cell_type": "code",
   "execution_count": 5,
   "metadata": {},
   "outputs": [
    {
     "name": "stdout",
     "output_type": "stream",
     "text": [
      "('John', [6., 7.])\n",
      "Grades of John are:  [6. 7.]\n",
      "Names are:  ['Sarah' 'John']\n"
     ]
    }
   ],
   "source": [
    "# Python program to demonstrate \n",
    "# the use of data type object\n",
    "# with structured array.\n",
    "import numpy as np\n",
    " \n",
    "dt = np.dtype([('name', np.unicode_, 16),\n",
    "               ('grades', np.float64, (2,))])\n",
    " \n",
    "# x is a structured array with names\n",
    "# and marks of students.\n",
    "# Data type of name of the student is \n",
    "# np.unicode_ and data type of marks is \n",
    "# np.float(64)\n",
    "x = np.array([('Sarah', (8.0, 7.0)),\n",
    "              ('John', (6.0, 7.0))], dtype=dt)\n",
    " \n",
    "print(x[1])\n",
    " \n",
    "print(\"Grades of John are: \", x[1]['grades'])\n",
    "print(\"Names are: \", x['name'])"
   ]
  },
  {
   "cell_type": "code",
   "execution_count": null,
   "metadata": {},
   "outputs": [],
   "source": []
  }
 ],
 "metadata": {
  "kernelspec": {
   "display_name": "Python 3",
   "language": "python",
   "name": "python3"
  },
  "language_info": {
   "codemirror_mode": {
    "name": "ipython",
    "version": 3
   },
   "file_extension": ".py",
   "mimetype": "text/x-python",
   "name": "python",
   "nbconvert_exporter": "python",
   "pygments_lexer": "ipython3",
   "version": "3.7.4"
  }
 },
 "nbformat": 4,
 "nbformat_minor": 2
}
