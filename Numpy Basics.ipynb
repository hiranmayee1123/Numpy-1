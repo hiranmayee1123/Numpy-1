{
 "cells": [
  {
   "cell_type": "markdown",
   "metadata": {},
   "source": [
    "# Python Numpy\n",
    "\n",
    "Numpy is a general-purpose array-processing package. It provides a high-performance multidimensional array object, tools for working with these arrays and also be used as an efficient multi-dimensional container of generic data."
   ]
  },
  {
   "cell_type": "markdown",
   "metadata": {},
   "source": [
    "# Creating a Numpy Array\n",
    "\n",
    "Arrays in Numpy can be created by multiple ways, with various number of Ranks, defining the size of the Array, with the use of various data types such as lists, tuples, etc. "
   ]
  },
  {
   "cell_type": "code",
   "execution_count": 5,
   "metadata": {},
   "outputs": [
    {
     "name": "stdout",
     "output_type": "stream",
     "text": [
      "Array with 1 row: \n",
      " [1 2 3]\n"
     ]
    }
   ],
   "source": [
    "import numpy as np\n",
    " \n",
    "# Creating a rank 1 Array\n",
    "arr = np.array([1, 2, 3])\n",
    "print(\"Array with 1 row: \\n\",arr)"
   ]
  },
  {
   "cell_type": "code",
   "execution_count": 6,
   "metadata": {},
   "outputs": [
    {
     "name": "stdout",
     "output_type": "stream",
     "text": [
      "Array with 2 rows : \n",
      " [[1 2 3]\n",
      " [4 5 6]]\n"
     ]
    }
   ],
   "source": [
    "# Creating a rank 2 Array\n",
    "arr = np.array([[1, 2, 3],\n",
    "                [4, 5, 6]])\n",
    "print(\"Array with 2 rows : \\n\", arr)\n"
   ]
  },
  {
   "cell_type": "code",
   "execution_count": 7,
   "metadata": {},
   "outputs": [
    {
     "name": "stdout",
     "output_type": "stream",
     "text": [
      "\n",
      "Array created using passed tuple:\n",
      " [1 3 2]\n"
     ]
    }
   ],
   "source": [
    " # Creating an array from tuple\n",
    "arr = np.array((1, 3, 2))\n",
    "print(\"\\nArray created using \"\n",
    "      \"passed tuple:\\n\", arr)"
   ]
  },
  {
   "cell_type": "markdown",
   "metadata": {},
   "source": [
    "# Accessing the array Index\n",
    "\n",
    " Slicing of an array is defining a range in a new array which is used to print a range of elements from the original array. "
   ]
  },
  {
   "cell_type": "code",
   "execution_count": 16,
   "metadata": {},
   "outputs": [
    {
     "name": "stdout",
     "output_type": "stream",
     "text": [
      "Initial Array: \n",
      "[[-1.   2.   0.   4. ]\n",
      " [ 4.  -0.5  6.   0. ]\n",
      " [ 2.6  0.   7.   8. ]\n",
      " [ 3.  -7.   4.   2. ]]\n"
     ]
    }
   ],
   "source": [
    "import numpy as np\n",
    " \n",
    "arr = np.array([[-1, 2, 0, 4],\n",
    "                [4, -0.5, 6, 0],\n",
    "                [2.6, 0, 7, 8],\n",
    "                [3, -7, 4, 2.0]])\n",
    "print(\"Initial Array: \")\n",
    "print(arr)"
   ]
  },
  {
   "cell_type": "code",
   "execution_count": 14,
   "metadata": {},
   "outputs": [
    {
     "name": "stdout",
     "output_type": "stream",
     "text": [
      "Array with first 2 rows and alternate columns(0 and 2):\n",
      " [[-1.  0.]\n",
      " [ 4.  6.]]\n"
     ]
    }
   ],
   "source": [
    " # Printing a range of Array using of slicing method\n",
    "sliced_arr = arr[:2, ::2]\n",
    "print (\"Array with first 2 rows and\"\n",
    "    \" alternate columns(0 and 2):\\n\", sliced_arr)"
   ]
  },
  {
   "cell_type": "code",
   "execution_count": 15,
   "metadata": {},
   "outputs": [
    {
     "name": "stdout",
     "output_type": "stream",
     "text": [
      "\n",
      "Elements at indices (1, 3), (1, 2), (0, 1), (3, 0):\n",
      " [0. 6. 2. 3.]\n"
     ]
    }
   ],
   "source": [
    "# Printing elements at specific Indices\n",
    "Index_arr = arr[[1, 1, 0, 3], \n",
    "                [3, 2, 1, 0]]\n",
    "print (\"\\nElements at indices (1, 3), \"\n",
    "    \"(1, 2), (0, 1), (3, 0):\\n\", Index_arr)"
   ]
  },
  {
   "cell_type": "markdown",
   "metadata": {},
   "source": [
    "# Basic Array Operations\n",
    "\n",
    "Operations include some basic Mathematical operation as well as Unary and Binary operations."
   ]
  },
  {
   "cell_type": "code",
   "execution_count": 17,
   "metadata": {},
   "outputs": [
    {
     "name": "stdout",
     "output_type": "stream",
     "text": [
      "Adding 1 to every element: [[2 3]\n",
      " [4 5]]\n"
     ]
    }
   ],
   "source": [
    "import numpy as np\n",
    " \n",
    "# Defining Array 1\n",
    "a = np.array([[1, 2],\n",
    "              [3, 4]])\n",
    " \n",
    "# Defining Array 2\n",
    "b = np.array([[4, 3],\n",
    "              [2, 1]])\n",
    "               \n",
    "# Adding 1 to every element\n",
    "print (\"Adding 1 to every element:\", a + 1)"
   ]
  },
  {
   "cell_type": "code",
   "execution_count": 18,
   "metadata": {},
   "outputs": [
    {
     "name": "stdout",
     "output_type": "stream",
     "text": [
      "\n",
      "Subtracting 2 from each element: [[ 2  1]\n",
      " [ 0 -1]]\n"
     ]
    }
   ],
   "source": [
    "# Subtracting 2 from each element\n",
    "print (\"\\nSubtracting 2 from each element:\", b - 2)"
   ]
  },
  {
   "cell_type": "code",
   "execution_count": 19,
   "metadata": {},
   "outputs": [
    {
     "name": "stdout",
     "output_type": "stream",
     "text": [
      "\n",
      "Sum of all array elements:  10\n"
     ]
    }
   ],
   "source": [
    "# sum of array elements\n",
    "# Performing Unary operations\n",
    "print (\"\\nSum of all array \"\n",
    "       \"elements: \", a.sum())"
   ]
  },
  {
   "cell_type": "code",
   "execution_count": 20,
   "metadata": {},
   "outputs": [
    {
     "name": "stdout",
     "output_type": "stream",
     "text": [
      "\n",
      "Array sum:\n",
      " [[5 5]\n",
      " [5 5]]\n"
     ]
    }
   ],
   "source": [
    " # Adding two arrays\n",
    "# Performing Binary operations\n",
    "print (\"\\nArray sum:\\n\", a + b)"
   ]
  },
  {
   "cell_type": "markdown",
   "metadata": {},
   "source": [
    "# Data Types in Numpy\n",
    "\n",
    "Every ndarray has an associated data type (dtype) object. This data type object (dtype) provides information about the layout of the array. The values of an ndarray are stored in a buffer which can be thought of as a contiguous block of memory bytes which can be interpreted by the dtype object. "
   ]
  },
  {
   "cell_type": "code",
   "execution_count": 21,
   "metadata": {},
   "outputs": [
    {
     "name": "stdout",
     "output_type": "stream",
     "text": [
      "Integer Datatype: \n",
      "int32\n"
     ]
    }
   ],
   "source": [
    "import numpy as np\n",
    " \n",
    "# Integer datatype guessed by Numpy\n",
    "x = np.array([1, 2])  \n",
    "print(\"Integer Datatype: \")\n",
    "print(x.dtype)         "
   ]
  },
  {
   "cell_type": "code",
   "execution_count": 30,
   "metadata": {},
   "outputs": [
    {
     "name": "stdout",
     "output_type": "stream",
     "text": [
      "\n",
      "Float Datatype: \n",
      "float64\n"
     ]
    }
   ],
   "source": [
    "# Float datatype guessed by Numpy\n",
    "x = np.array([1.0, 2.0]) \n",
    "print(\"\\nFloat Datatype: \")\n",
    "print(x.dtype)  "
   ]
  },
  {
   "cell_type": "code",
   "execution_count": 23,
   "metadata": {},
   "outputs": [
    {
     "name": "stdout",
     "output_type": "stream",
     "text": [
      "\n",
      "Forcing a Datatype: \n",
      "int64\n"
     ]
    }
   ],
   "source": [
    "# Forced Datatype\n",
    "x = np.array([1, 2], dtype = np.int64)   \n",
    "print(\"\\nForcing a Datatype: \")\n",
    "print(x.dtype)"
   ]
  },
  {
   "cell_type": "markdown",
   "metadata": {},
   "source": [
    "# Math Operations on DataType array\n",
    "\n",
    "Basic mathematical operations are performed element-wise on the array. "
   ]
  },
  {
   "cell_type": "code",
   "execution_count": 24,
   "metadata": {},
   "outputs": [
    {
     "name": "stdout",
     "output_type": "stream",
     "text": [
      "Addition of Two Arrays: \n",
      "[[ 7. 13.]\n",
      " [ 4. 14.]]\n"
     ]
    }
   ],
   "source": [
    "import numpy as np\n",
    " \n",
    "# First Array\n",
    "arr1 = np.array([[4, 7], [2, 6]], \n",
    "                 dtype = np.float64)\n",
    "                  \n",
    "# Second Array\n",
    "arr2 = np.array([[3, 6], [2, 8]], \n",
    "                 dtype = np.float64) \n",
    " \n",
    "# Addition of two Arrays\n",
    "Sum = np.add(arr1, arr2)\n",
    "print(\"Addition of Two Arrays: \")\n",
    "print(Sum)"
   ]
  },
  {
   "cell_type": "code",
   "execution_count": 29,
   "metadata": {},
   "outputs": [
    {
     "name": "stdout",
     "output_type": "stream",
     "text": [
      "\n",
      "Addition of Array elements: \n",
      "19.0\n"
     ]
    }
   ],
   "source": [
    "# Addition of all Array elements using predefined sum method\n",
    "Sum1 = np.sum(arr1)\n",
    "print(\"\\nAddition of Array elements: \")\n",
    "print(Sum1)"
   ]
  },
  {
   "cell_type": "code",
   "execution_count": 26,
   "metadata": {},
   "outputs": [
    {
     "name": "stdout",
     "output_type": "stream",
     "text": [
      "\n",
      "Square root of Array1 elements: \n",
      "[[2.         2.64575131]\n",
      " [1.41421356 2.44948974]]\n"
     ]
    }
   ],
   "source": [
    "# Square root of Array\n",
    "Sqrt = np.sqrt(arr1)\n",
    "print(\"\\nSquare root of Array1 elements: \")\n",
    "print(Sqrt)"
   ]
  },
  {
   "cell_type": "code",
   "execution_count": 28,
   "metadata": {},
   "outputs": [
    {
     "name": "stdout",
     "output_type": "stream",
     "text": [
      "\n",
      "Transpose of Array: \n",
      "[[4. 2.]\n",
      " [7. 6.]]\n"
     ]
    }
   ],
   "source": [
    "# Transpose of Array using In-built function 'T'\n",
    "Trans_arr = arr1.T\n",
    "print(\"\\nTranspose of Array: \")\n",
    "print(Trans_arr)"
   ]
  },
  {
   "cell_type": "markdown",
   "metadata": {},
   "source": [
    "# Methods in Numpy\n",
    "\n",
    "all()\n",
    "\n",
    "any()\n",
    "\n",
    "take()\n",
    "\n",
    "put()\n",
    "\n",
    "apply_along_axis()\n",
    "\n",
    "apply_over_axes()\n",
    "\n",
    "argmin()\n",
    "\n",
    "argmax()\n",
    "\n",
    "nanargmin()\n",
    "\n",
    "nanargmax()\n",
    "\n",
    "amax()\n",
    "\n",
    "amin()\n",
    "\n",
    "insert()\n",
    "\n",
    "delete()\n",
    "\n",
    "append()\n",
    "\n",
    "around()\n",
    "\n",
    "flip()\n",
    "\n",
    "fliplr()\n",
    "\n",
    "flipud()\n",
    "\n",
    "triu()\n",
    "\n",
    "tril()\n",
    "\n",
    "tri()\n",
    "\n",
    "empty()\n",
    "\n",
    "empty_like()\n",
    "\n",
    "zeros()\n",
    "\n",
    "zeros_like()\n",
    "\n",
    "ones()\n",
    "\n",
    "ones_like()\n",
    "\n",
    "full_like()\n",
    "\n",
    "diag()\n",
    "\n",
    "diagflat()\n",
    "\n",
    "diag_indices()\n",
    "\n",
    "asmatrix()\n",
    "\n",
    "bmat()\n",
    "\n",
    "eye()\n",
    "\n",
    "roll()\n",
    "\n",
    "identity()\n",
    "\n",
    "arange()\n",
    "\n",
    "place()\n",
    "\n",
    "extract()\n",
    "\n",
    "compress()\n",
    "\n",
    "rot90()\n",
    "\n",
    "tile()\n",
    "\n",
    "reshape()\n",
    "\n",
    "ravel()\n",
    "\n",
    "isinf()\n",
    "\n",
    "isrealobj()\n",
    "\n",
    "isscalar()\n",
    "\n",
    "isneginf()\n",
    "\n",
    "isposinf()\n",
    "\n",
    "iscomplex()\n",
    "\n",
    "isnan()\n",
    "\n",
    "iscomplexobj()\n",
    "\n",
    "isreal()\n",
    "\n",
    "isfinite()\n",
    "\n",
    "isfortran()\n",
    "\n",
    "exp()\n",
    "\n",
    "exp2()\n",
    "\n",
    "fix()\n",
    "\n",
    "hypot()\n",
    "\n",
    "absolute()\n",
    "\n",
    "ceil()\n",
    "\n",
    "floor()\n",
    "\n",
    "degrees()\n",
    "\n",
    "radians()\n",
    "\n",
    "npv()\n",
    "\n",
    "fv()\n",
    "\n",
    "pv()\n",
    "\n",
    "power()\n",
    "\n",
    "float_power()\n",
    "\n",
    "log()\n",
    "\n",
    "log1()\n",
    "\n",
    "log2()\n",
    "\n",
    "log10()\n",
    "\n",
    "dot()\n",
    "\n",
    "vdot()\n",
    "\n",
    "trunc()\n",
    "\n",
    "divide()\n",
    "\n",
    "floor_divide()\n",
    "\n",
    "true_divide()\n",
    "\n",
    "random.rand()\n",
    "\n",
    "random.randn()\n",
    "\n",
    "ndarray.flat()\n",
    "\n",
    "expm1()\n",
    "\n",
    "bincount()\n",
    "\n",
    "rint()\n",
    "\n",
    "equal()\n",
    "\n",
    "not_equal()\n",
    "\n",
    "less()\n",
    "\n",
    "less_equal()\n",
    "\n",
    "greater()\n",
    "\n",
    "greater_equal()\n",
    "\n",
    "prod()\n",
    "\n",
    "square()\n",
    "\n",
    "cbrt()\n",
    "\n",
    "logical_or()\n",
    "\n",
    "logical_and()\n",
    "\n",
    "logical_not()\n",
    "\n",
    "logical_xor()\n",
    "\n",
    "array_equal()\n",
    "\n",
    "array_equiv()\n",
    "\n",
    "sin()\n",
    "\n",
    "cos()\n",
    "\n",
    "tan()\n",
    "\n",
    "sinh()\n",
    "\n",
    "cosh()\n",
    "\n",
    "tanh()\n",
    "\n",
    "arcsin()\n",
    "\n",
    "arccos()\n",
    "\n",
    "arctan()\n",
    "\n",
    "arctan2()\n"
   ]
  }
 ],
 "metadata": {
  "kernelspec": {
   "display_name": "Python 3",
   "language": "python",
   "name": "python3"
  },
  "language_info": {
   "codemirror_mode": {
    "name": "ipython",
    "version": 3
   },
   "file_extension": ".py",
   "mimetype": "text/x-python",
   "name": "python",
   "nbconvert_exporter": "python",
   "pygments_lexer": "ipython3",
   "version": "3.7.4"
  }
 },
 "nbformat": 4,
 "nbformat_minor": 2
}
